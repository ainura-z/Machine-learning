{
 "cells": [
  {
   "cell_type": "code",
   "execution_count": 1,
   "metadata": {},
   "outputs": [],
   "source": [
    "import pandas as pd\n",
    "import numpy as np\n",
    "import matplotlib.pyplot as plt\n",
    "%matplotlib inline"
   ]
  },
  {
   "cell_type": "markdown",
   "metadata": {},
   "source": [
    "## 1. Read data"
   ]
  },
  {
   "cell_type": "code",
   "execution_count": 2,
   "metadata": {},
   "outputs": [],
   "source": [
    "df_train = pd.read_csv('stream_quality_data/train_data.csv')\n",
    "df_test = pd.read_csv('stream_quality_data/test_data.csv')"
   ]
  },
  {
   "cell_type": "markdown",
   "metadata": {},
   "source": [
    "# 2. Data Exploration"
   ]
  },
  {
   "cell_type": "code",
   "execution_count": 3,
   "metadata": {},
   "outputs": [
    {
     "name": "stdout",
     "output_type": "stream",
     "text": [
      "Number of rows and columns in the training data set:  (406572, 12)\n"
     ]
    },
    {
     "data": {
      "text/html": [
       "<div>\n",
       "<style scoped>\n",
       "    .dataframe tbody tr th:only-of-type {\n",
       "        vertical-align: middle;\n",
       "    }\n",
       "\n",
       "    .dataframe tbody tr th {\n",
       "        vertical-align: top;\n",
       "    }\n",
       "\n",
       "    .dataframe thead th {\n",
       "        text-align: right;\n",
       "    }\n",
       "</style>\n",
       "<table border=\"1\" class=\"dataframe\">\n",
       "  <thead>\n",
       "    <tr style=\"text-align: right;\">\n",
       "      <th></th>\n",
       "      <th>fps_mean</th>\n",
       "      <th>fps_std</th>\n",
       "      <th>fps_lags</th>\n",
       "      <th>rtt_mean</th>\n",
       "      <th>rtt_std</th>\n",
       "      <th>dropped_frames_mean</th>\n",
       "      <th>dropped_frames_std</th>\n",
       "      <th>dropped_frames_max</th>\n",
       "      <th>auto_bitrate_state</th>\n",
       "      <th>auto_fec_state</th>\n",
       "      <th>auto_fec_mean</th>\n",
       "      <th>stream_quality</th>\n",
       "    </tr>\n",
       "  </thead>\n",
       "  <tbody>\n",
       "    <tr>\n",
       "      <th>0</th>\n",
       "      <td>24.4</td>\n",
       "      <td>0.516398</td>\n",
       "      <td>0</td>\n",
       "      <td>91.1</td>\n",
       "      <td>6.723921</td>\n",
       "      <td>0.0</td>\n",
       "      <td>0.0</td>\n",
       "      <td>0.0</td>\n",
       "      <td>off</td>\n",
       "      <td>partial</td>\n",
       "      <td>50.0</td>\n",
       "      <td>0</td>\n",
       "    </tr>\n",
       "    <tr>\n",
       "      <th>1</th>\n",
       "      <td>28.6</td>\n",
       "      <td>2.065591</td>\n",
       "      <td>0</td>\n",
       "      <td>99.7</td>\n",
       "      <td>15.923777</td>\n",
       "      <td>0.0</td>\n",
       "      <td>0.0</td>\n",
       "      <td>0.0</td>\n",
       "      <td>off</td>\n",
       "      <td>partial</td>\n",
       "      <td>50.0</td>\n",
       "      <td>0</td>\n",
       "    </tr>\n",
       "    <tr>\n",
       "      <th>2</th>\n",
       "      <td>30.0</td>\n",
       "      <td>0.000000</td>\n",
       "      <td>0</td>\n",
       "      <td>98.1</td>\n",
       "      <td>11.798776</td>\n",
       "      <td>0.0</td>\n",
       "      <td>0.0</td>\n",
       "      <td>0.0</td>\n",
       "      <td>off</td>\n",
       "      <td>partial</td>\n",
       "      <td>50.0</td>\n",
       "      <td>0</td>\n",
       "    </tr>\n",
       "    <tr>\n",
       "      <th>3</th>\n",
       "      <td>30.3</td>\n",
       "      <td>0.948683</td>\n",
       "      <td>0</td>\n",
       "      <td>99.4</td>\n",
       "      <td>13.014522</td>\n",
       "      <td>0.0</td>\n",
       "      <td>0.0</td>\n",
       "      <td>0.0</td>\n",
       "      <td>off</td>\n",
       "      <td>partial</td>\n",
       "      <td>50.0</td>\n",
       "      <td>0</td>\n",
       "    </tr>\n",
       "    <tr>\n",
       "      <th>4</th>\n",
       "      <td>29.9</td>\n",
       "      <td>0.316228</td>\n",
       "      <td>0</td>\n",
       "      <td>123.2</td>\n",
       "      <td>62.476307</td>\n",
       "      <td>0.0</td>\n",
       "      <td>0.0</td>\n",
       "      <td>0.0</td>\n",
       "      <td>off</td>\n",
       "      <td>partial</td>\n",
       "      <td>50.0</td>\n",
       "      <td>0</td>\n",
       "    </tr>\n",
       "  </tbody>\n",
       "</table>\n",
       "</div>"
      ],
      "text/plain": [
       "   fps_mean   fps_std  fps_lags  rtt_mean    rtt_std  dropped_frames_mean  \\\n",
       "0      24.4  0.516398         0      91.1   6.723921                  0.0   \n",
       "1      28.6  2.065591         0      99.7  15.923777                  0.0   \n",
       "2      30.0  0.000000         0      98.1  11.798776                  0.0   \n",
       "3      30.3  0.948683         0      99.4  13.014522                  0.0   \n",
       "4      29.9  0.316228         0     123.2  62.476307                  0.0   \n",
       "\n",
       "   dropped_frames_std  dropped_frames_max auto_bitrate_state auto_fec_state  \\\n",
       "0                 0.0                 0.0                off        partial   \n",
       "1                 0.0                 0.0                off        partial   \n",
       "2                 0.0                 0.0                off        partial   \n",
       "3                 0.0                 0.0                off        partial   \n",
       "4                 0.0                 0.0                off        partial   \n",
       "\n",
       "   auto_fec_mean  stream_quality  \n",
       "0           50.0               0  \n",
       "1           50.0               0  \n",
       "2           50.0               0  \n",
       "3           50.0               0  \n",
       "4           50.0               0  "
      ]
     },
     "execution_count": 3,
     "metadata": {},
     "output_type": "execute_result"
    }
   ],
   "source": [
    "print('Number of rows and columns in the training data set: ',df_train.shape)\n",
    "df_train.head(5)"
   ]
  },
  {
   "cell_type": "code",
   "execution_count": 4,
   "metadata": {},
   "outputs": [
    {
     "name": "stdout",
     "output_type": "stream",
     "text": [
      "Number categorical featues: 2\n",
      "fps_mean               float64\n",
      "fps_std                float64\n",
      "fps_lags                 int64\n",
      "rtt_mean               float64\n",
      "rtt_std                float64\n",
      "dropped_frames_mean    float64\n",
      "dropped_frames_std     float64\n",
      "dropped_frames_max     float64\n",
      "auto_bitrate_state      object\n",
      "auto_fec_state          object\n",
      "auto_fec_mean          float64\n",
      "stream_quality           int64\n",
      "dtype: object\n"
     ]
    }
   ],
   "source": [
    "types = df_train.dtypes\n",
    "print(\"Number categorical featues:\", sum(types=='object'))\n",
    "print(types)"
   ]
  },
  {
   "cell_type": "code",
   "execution_count": 5,
   "metadata": {},
   "outputs": [
    {
     "data": {
      "text/html": [
       "<div>\n",
       "<style scoped>\n",
       "    .dataframe tbody tr th:only-of-type {\n",
       "        vertical-align: middle;\n",
       "    }\n",
       "\n",
       "    .dataframe tbody tr th {\n",
       "        vertical-align: top;\n",
       "    }\n",
       "\n",
       "    .dataframe thead th {\n",
       "        text-align: right;\n",
       "    }\n",
       "</style>\n",
       "<table border=\"1\" class=\"dataframe\">\n",
       "  <thead>\n",
       "    <tr style=\"text-align: right;\">\n",
       "      <th></th>\n",
       "      <th>count</th>\n",
       "      <th>mean</th>\n",
       "      <th>std</th>\n",
       "      <th>min</th>\n",
       "      <th>25%</th>\n",
       "      <th>50%</th>\n",
       "      <th>75%</th>\n",
       "      <th>max</th>\n",
       "    </tr>\n",
       "  </thead>\n",
       "  <tbody>\n",
       "    <tr>\n",
       "      <th>fps_mean</th>\n",
       "      <td>406572.0</td>\n",
       "      <td>3.449756e+01</td>\n",
       "      <td>1.162549e+01</td>\n",
       "      <td>0.0</td>\n",
       "      <td>28.300000</td>\n",
       "      <td>30.000000</td>\n",
       "      <td>43.000000</td>\n",
       "      <td>1.271000e+02</td>\n",
       "    </tr>\n",
       "    <tr>\n",
       "      <th>fps_std</th>\n",
       "      <td>406572.0</td>\n",
       "      <td>2.285486e+00</td>\n",
       "      <td>3.708531e+00</td>\n",
       "      <td>0.0</td>\n",
       "      <td>0.316228</td>\n",
       "      <td>0.994429</td>\n",
       "      <td>2.590581</td>\n",
       "      <td>3.125408e+02</td>\n",
       "    </tr>\n",
       "    <tr>\n",
       "      <th>fps_lags</th>\n",
       "      <td>406572.0</td>\n",
       "      <td>1.831508e-01</td>\n",
       "      <td>1.099384e+00</td>\n",
       "      <td>0.0</td>\n",
       "      <td>0.000000</td>\n",
       "      <td>0.000000</td>\n",
       "      <td>0.000000</td>\n",
       "      <td>1.000000e+01</td>\n",
       "    </tr>\n",
       "    <tr>\n",
       "      <th>rtt_mean</th>\n",
       "      <td>406572.0</td>\n",
       "      <td>5.431440e+01</td>\n",
       "      <td>1.338721e+02</td>\n",
       "      <td>0.0</td>\n",
       "      <td>14.100000</td>\n",
       "      <td>32.300000</td>\n",
       "      <td>57.100000</td>\n",
       "      <td>1.289840e+04</td>\n",
       "    </tr>\n",
       "    <tr>\n",
       "      <th>rtt_std</th>\n",
       "      <td>406572.0</td>\n",
       "      <td>1.952502e+01</td>\n",
       "      <td>1.563643e+02</td>\n",
       "      <td>0.0</td>\n",
       "      <td>0.699206</td>\n",
       "      <td>1.490712</td>\n",
       "      <td>5.334375</td>\n",
       "      <td>4.072193e+04</td>\n",
       "    </tr>\n",
       "    <tr>\n",
       "      <th>dropped_frames_mean</th>\n",
       "      <td>406572.0</td>\n",
       "      <td>1.730432e+06</td>\n",
       "      <td>4.930091e+07</td>\n",
       "      <td>0.0</td>\n",
       "      <td>0.000000</td>\n",
       "      <td>0.000000</td>\n",
       "      <td>0.000000</td>\n",
       "      <td>2.097289e+09</td>\n",
       "    </tr>\n",
       "    <tr>\n",
       "      <th>dropped_frames_std</th>\n",
       "      <td>406572.0</td>\n",
       "      <td>1.378279e+05</td>\n",
       "      <td>9.229776e+06</td>\n",
       "      <td>0.0</td>\n",
       "      <td>0.000000</td>\n",
       "      <td>0.000000</td>\n",
       "      <td>0.000000</td>\n",
       "      <td>9.963751e+08</td>\n",
       "    </tr>\n",
       "    <tr>\n",
       "      <th>dropped_frames_max</th>\n",
       "      <td>406572.0</td>\n",
       "      <td>1.893339e+06</td>\n",
       "      <td>5.241003e+07</td>\n",
       "      <td>0.0</td>\n",
       "      <td>0.000000</td>\n",
       "      <td>0.000000</td>\n",
       "      <td>0.000000</td>\n",
       "      <td>2.097289e+09</td>\n",
       "    </tr>\n",
       "    <tr>\n",
       "      <th>auto_fec_mean</th>\n",
       "      <td>406572.0</td>\n",
       "      <td>5.141354e+01</td>\n",
       "      <td>3.483604e+01</td>\n",
       "      <td>0.0</td>\n",
       "      <td>50.000000</td>\n",
       "      <td>50.000000</td>\n",
       "      <td>50.000000</td>\n",
       "      <td>2.500000e+02</td>\n",
       "    </tr>\n",
       "    <tr>\n",
       "      <th>stream_quality</th>\n",
       "      <td>406572.0</td>\n",
       "      <td>6.846020e-02</td>\n",
       "      <td>2.525343e-01</td>\n",
       "      <td>0.0</td>\n",
       "      <td>0.000000</td>\n",
       "      <td>0.000000</td>\n",
       "      <td>0.000000</td>\n",
       "      <td>1.000000e+00</td>\n",
       "    </tr>\n",
       "  </tbody>\n",
       "</table>\n",
       "</div>"
      ],
      "text/plain": [
       "                        count          mean           std  min        25%  \\\n",
       "fps_mean             406572.0  3.449756e+01  1.162549e+01  0.0  28.300000   \n",
       "fps_std              406572.0  2.285486e+00  3.708531e+00  0.0   0.316228   \n",
       "fps_lags             406572.0  1.831508e-01  1.099384e+00  0.0   0.000000   \n",
       "rtt_mean             406572.0  5.431440e+01  1.338721e+02  0.0  14.100000   \n",
       "rtt_std              406572.0  1.952502e+01  1.563643e+02  0.0   0.699206   \n",
       "dropped_frames_mean  406572.0  1.730432e+06  4.930091e+07  0.0   0.000000   \n",
       "dropped_frames_std   406572.0  1.378279e+05  9.229776e+06  0.0   0.000000   \n",
       "dropped_frames_max   406572.0  1.893339e+06  5.241003e+07  0.0   0.000000   \n",
       "auto_fec_mean        406572.0  5.141354e+01  3.483604e+01  0.0  50.000000   \n",
       "stream_quality       406572.0  6.846020e-02  2.525343e-01  0.0   0.000000   \n",
       "\n",
       "                           50%        75%           max  \n",
       "fps_mean             30.000000  43.000000  1.271000e+02  \n",
       "fps_std               0.994429   2.590581  3.125408e+02  \n",
       "fps_lags              0.000000   0.000000  1.000000e+01  \n",
       "rtt_mean             32.300000  57.100000  1.289840e+04  \n",
       "rtt_std               1.490712   5.334375  4.072193e+04  \n",
       "dropped_frames_mean   0.000000   0.000000  2.097289e+09  \n",
       "dropped_frames_std    0.000000   0.000000  9.963751e+08  \n",
       "dropped_frames_max    0.000000   0.000000  2.097289e+09  \n",
       "auto_fec_mean        50.000000  50.000000  2.500000e+02  \n",
       "stream_quality        0.000000   0.000000  1.000000e+00  "
      ]
     },
     "execution_count": 5,
     "metadata": {},
     "output_type": "execute_result"
    }
   ],
   "source": [
    "df_train.describe().T"
   ]
  },
  {
   "cell_type": "code",
   "execution_count": 6,
   "metadata": {},
   "outputs": [
    {
     "data": {
      "text/plain": [
       "fps_mean               0\n",
       "fps_std                0\n",
       "fps_lags               0\n",
       "rtt_mean               0\n",
       "rtt_std                0\n",
       "dropped_frames_mean    0\n",
       "dropped_frames_std     0\n",
       "dropped_frames_max     0\n",
       "auto_bitrate_state     0\n",
       "auto_fec_state         0\n",
       "auto_fec_mean          0\n",
       "stream_quality         0\n",
       "dtype: int64"
      ]
     },
     "execution_count": 6,
     "metadata": {},
     "output_type": "execute_result"
    }
   ],
   "source": [
    "df_train.isna().sum()"
   ]
  },
  {
   "cell_type": "markdown",
   "metadata": {},
   "source": [
    "No missing values, 2 categorical features"
   ]
  },
  {
   "cell_type": "code",
   "execution_count": 7,
   "metadata": {},
   "outputs": [],
   "source": [
    "# from pandas_profiling import ProfileReport\n",
    "\n",
    "# report = ProfileReport(df_train)\n",
    "# report.to_file('data_profile_report.html')"
   ]
  },
  {
   "cell_type": "markdown",
   "metadata": {},
   "source": [
    "## 4. Data Preprocessing"
   ]
  },
  {
   "cell_type": "markdown",
   "metadata": {},
   "source": [
    "### Encoding the categorical features"
   ]
  },
  {
   "cell_type": "code",
   "execution_count": 8,
   "metadata": {},
   "outputs": [],
   "source": [
    "from sklearn.preprocessing import LabelEncoder\n",
    "\n",
    "\n",
    "# extracting the names of categorical features\n",
    "cat_feats = df_train.select_dtypes(include=['object']).columns.tolist()\n",
    "\n",
    "encoder = LabelEncoder()\n",
    "\n",
    "# creating a copy of dataset to save our initial data\n",
    "df_train_encoded = df_train.copy()\n",
    "df_test_encoded = df_test.copy()\n",
    "\n",
    "# fit and transform the data \n",
    "for name in cat_feats:\n",
    "    encoder.fit(df_train[name])\n",
    "    df_train_encoded[name] = encoder.transform(df_train[name])\n",
    "    df_test_encoded[name] = encoder.transform(df_test[name])"
   ]
  },
  {
   "cell_type": "markdown",
   "metadata": {},
   "source": [
    "### TrainTest splitting"
   ]
  },
  {
   "cell_type": "code",
   "execution_count": 9,
   "metadata": {},
   "outputs": [
    {
     "name": "stdout",
     "output_type": "stream",
     "text": [
      "(406572, 11) (243596, 11)\n"
     ]
    }
   ],
   "source": [
    "x_train, y_train, x_test, y_test = df_train_encoded.drop('stream_quality', axis = 1), df_train_encoded['stream_quality'],\\\n",
    "                                   df_test_encoded.drop('stream_quality', axis = 1), df_test_encoded['stream_quality']\n",
    "\n",
    "print(x_train.shape, x_test.shape)"
   ]
  },
  {
   "cell_type": "markdown",
   "metadata": {},
   "source": [
    "### Features Scaling"
   ]
  },
  {
   "cell_type": "code",
   "execution_count": 10,
   "metadata": {},
   "outputs": [],
   "source": [
    "from sklearn.preprocessing import MinMaxScaler\n",
    "\n",
    "def scaler(scaler_name, x_train, x_test):\n",
    "    \"\"\" \n",
    "        This function scales our features by using scaler_name method.\n",
    "        For example, scaler_name can be MinMaxScaler or StandartScaler, or any other.    \n",
    "    \"\"\"\n",
    "    scaler = scaler_name()\n",
    "    # fit it to the data.\n",
    "    scaler.fit(x_train)\n",
    "    # transform the data\n",
    "    scaled_data_train = pd.DataFrame(scaler.transform(x_train), columns = x_train.columns)\n",
    "    scaled_data_test = pd.DataFrame(scaler.transform(x_test), columns = x_test.columns)\n",
    "\n",
    "    return scaled_data_train, scaled_data_test"
   ]
  },
  {
   "cell_type": "code",
   "execution_count": 11,
   "metadata": {},
   "outputs": [],
   "source": [
    "scaled_data_train, scaled_data_test = scaler(MinMaxScaler, x_train, x_test)"
   ]
  },
  {
   "cell_type": "markdown",
   "metadata": {},
   "source": [
    "## 5. Data Visualization"
   ]
  },
  {
   "cell_type": "markdown",
   "metadata": {},
   "source": [
    "### PCA"
   ]
  },
  {
   "cell_type": "code",
   "execution_count": 12,
   "metadata": {},
   "outputs": [
    {
     "data": {
      "text/plain": [
       "<seaborn.axisgrid.FacetGrid at 0x25607b23700>"
      ]
     },
     "execution_count": 12,
     "metadata": {},
     "output_type": "execute_result"
    },
    {
     "data": {
      "image/png": "[encoded data removed]",
      "text/plain": [
       "<Figure size 442.25x360 with 1 Axes>"
      ]
     },
     "metadata": {
      "needs_background": "light"
     },
     "output_type": "display_data"
    }
   ],
   "source": [
    "import seaborn as sns\n",
    "from sklearn.decomposition import PCA\n",
    "\n",
    "\n",
    "dim_reducer = PCA(n_components=2)\n",
    "x_train_reduced = dim_reducer.fit_transform(scaled_data_train)\n",
    "df_pca = pd.DataFrame(x_train_reduced, columns = ['Component1', 'Component2'])\n",
    "df_pca['stream_quality'] = y_train\n",
    "\n",
    "\n",
    "ax = sns.lmplot(x = 'Component1', y  = 'Component2', hue = 'stream_quality', data = df_pca, fit_reg = False)\n",
    "ax.set_xlabels('Component 1')\n",
    "ax.set_ylabels('Component 2')"
   ]
  },
  {
   "cell_type": "markdown",
   "metadata": {},
   "source": [
    "## 6. Feature Selection"
   ]
  },
  {
   "cell_type": "code",
   "execution_count": 13,
   "metadata": {},
   "outputs": [
    {
     "name": "stdout",
     "output_type": "stream",
     "text": [
      "Columns with constant value: []\n",
      "Columns with 99.0 % distinct values: []\n"
     ]
    }
   ],
   "source": [
    "len_df = len(scaled_data_train)\n",
    "unique_vlaues_in_columns = scaled_data_train.nunique()\n",
    "\n",
    "columns_with_constant_value = scaled_data_train.columns[unique_vlaues_in_columns <= 1]\n",
    "print(\"Columns with constant value:\", columns_with_constant_value.tolist())\n",
    "\n",
    "threshold = 0.99\n",
    "columns_with_distinct_values = scaled_data_train.columns[unique_vlaues_in_columns / len_df > threshold]\n",
    "print(f\"Columns with {threshold * 100} % distinct values: {columns_with_distinct_values.tolist()}\")"
   ]
  },
  {
   "cell_type": "code",
   "execution_count": 14,
   "metadata": {},
   "outputs": [
    {
     "name": "stdout",
     "output_type": "stream",
     "text": [
      "                feature        VIF\n",
      "0              fps_mean   6.422491\n",
      "1               fps_std   1.550838\n",
      "2              fps_lags   1.222571\n",
      "3              rtt_mean   2.792360\n",
      "4               rtt_std   2.500245\n",
      "5   dropped_frames_mean  71.488734\n",
      "6    dropped_frames_std   4.397023\n",
      "7    dropped_frames_max  81.867632\n",
      "8    auto_bitrate_state   4.218060\n",
      "9        auto_fec_state   8.774668\n",
      "10        auto_fec_mean   4.497278\n"
     ]
    }
   ],
   "source": [
    "# информация, которую несет каждый столбец\n",
    "from statsmodels.stats.outliers_influence import variance_inflation_factor\n",
    "\n",
    "# the independent variables set\n",
    "X = df_train.drop(['stream_quality'], axis = 1)\n",
    "\n",
    "# VIF dataFrame\n",
    "vif_data = pd.DataFrame()\n",
    "vif_data['feature'] = x_train.columns\n",
    "\n",
    "# calculating VIF for each feature\n",
    "vif_data['VIF'] = [variance_inflation_factor(x_train.values, i) for i in range(len(x_train.columns))]\n",
    "\n",
    "print(vif_data)"
   ]
  },
  {
   "cell_type": "markdown",
   "metadata": {},
   "source": [
    "### Lasso feature selection"
   ]
  },
  {
   "cell_type": "code",
   "execution_count": 15,
   "metadata": {},
   "outputs": [
    {
     "data": {
      "text/plain": [
       "array([[-3.28106873, 35.25445481,  8.35375307,  7.66938659,  0.        ,\n",
       "         0.        ,  0.        ,  0.87987861, -0.55741174,  0.5219037 ,\n",
       "         0.13677735]])"
      ]
     },
     "execution_count": 15,
     "metadata": {},
     "output_type": "execute_result"
    }
   ],
   "source": [
    "from sklearn.linear_model import LogisticRegression\n",
    "\n",
    "log = LogisticRegression(penalty = 'l1', solver = 'liblinear').fit(scaled_data_train, y_train)\n",
    "log.coef_"
   ]
  },
  {
   "cell_type": "markdown",
   "metadata": {},
   "source": [
    "We can see that indeed "
   ]
  },
  {
   "cell_type": "code",
   "execution_count": 16,
   "metadata": {},
   "outputs": [
    {
     "name": "stdout",
     "output_type": "stream",
     "text": [
      "\n",
      "The shape of reduced training set: (406572, 8)\n",
      "The shape of reduced test set: (243596, 8)\n"
     ]
    }
   ],
   "source": [
    "# removing the features from training and test set\n",
    "remove_columns = [\"rtt_std\", \"dropped_frames_mean\", \"dropped_frames_std\"]\n",
    "\n",
    "x_train_reduced = scaled_data_train.drop(remove_columns, axis = 1)\n",
    "x_test_reduced = scaled_data_test.drop(remove_columns, axis = 1)\n",
    "\n",
    "print(f\"\\nThe shape of reduced training set: {x_train_reduced.shape}\")\n",
    "print(f\"The shape of reduced test set: {x_test_reduced.shape}\")"
   ]
  },
  {
   "cell_type": "markdown",
   "metadata": {},
   "source": [
    "# Machine Learning Models"
   ]
  },
  {
   "cell_type": "code",
   "execution_count": 17,
   "metadata": {},
   "outputs": [],
   "source": [
    "from sklearn.linear_model import LogisticRegression\n",
    "from sklearn import metrics"
   ]
  },
  {
   "cell_type": "code",
   "execution_count": 18,
   "metadata": {},
   "outputs": [],
   "source": [
    "def performance_measurement(y_test, y_pred):\n",
    "    print('Accuracy: ', metrics.accuracy_score(y_test, y_pred))\n",
    "    print('Precision: ', metrics.precision_score(y_test, y_pred))\n",
    "    print('Recall: ', metrics.recall_score(y_test, y_pred))\n",
    "    print(\"F1-Score:\", metrics.f1_score(y_test, y_pred))"
   ]
  },
  {
   "cell_type": "markdown",
   "metadata": {},
   "source": [
    "### Logistic Regression"
   ]
  },
  {
   "cell_type": "code",
   "execution_count": 19,
   "metadata": {},
   "outputs": [],
   "source": [
    "def logistic_regression(x_train, y_train, x_test, penalty=\"l2\", solver = \"liblinear\"):\n",
    "    log_reg = LogisticRegression(penalty = penalty, solver = solver)\n",
    "    log_reg.fit(x_train, y_train)\n",
    "    y_pred = log_reg.predict(x_test)\n",
    "\n",
    "    return y_pred"
   ]
  },
  {
   "cell_type": "code",
   "execution_count": 20,
   "metadata": {},
   "outputs": [
    {
     "name": "stderr",
     "output_type": "stream",
     "text": [
      "c:\\Users\\Айнура\\AppData\\Local\\Programs\\Python\\Python310\\lib\\site-packages\\sklearn\\linear_model\\_logistic.py:444: ConvergenceWarning: lbfgs failed to converge (status=1):\n",
      "STOP: TOTAL NO. of ITERATIONS REACHED LIMIT.\n",
      "\n",
      "Increase the number of iterations (max_iter) or scale the data as shown in:\n",
      "    https://scikit-learn.org/stable/modules/preprocessing.html\n",
      "Please also refer to the documentation for alternative solver options:\n",
      "    https://scikit-learn.org/stable/modules/linear_model.html#logistic-regression\n",
      "  n_iter_i = _check_optimize_result(\n"
     ]
    },
    {
     "name": "stdout",
     "output_type": "stream",
     "text": [
      "Accuracy:  0.9405983677892905\n",
      "Precision:  0.7083049693669162\n",
      "Recall:  0.13259844526570663\n",
      "F1-Score: 0.22337913267496778\n"
     ]
    }
   ],
   "source": [
    "y_pred_log = logistic_regression(x_train_reduced, y_train, x_test_reduced, 'none', \"lbfgs\")\n",
    "\n",
    "performance_measurement(y_test, y_pred_log)"
   ]
  },
  {
   "cell_type": "markdown",
   "metadata": {},
   "source": [
    "### Logistic Regression with L1 Regularization"
   ]
  },
  {
   "cell_type": "code",
   "execution_count": 21,
   "metadata": {},
   "outputs": [
    {
     "name": "stdout",
     "output_type": "stream",
     "text": [
      "Accuracy:  0.9405408955812082\n",
      "Precision:  0.7081899518238128\n",
      "Recall:  0.1311329170383586\n",
      "F1-Score: 0.22129032258064515\n"
     ]
    }
   ],
   "source": [
    "y_pred_log_l1 = logistic_regression(x_train_reduced, y_train, x_test_reduced, 'l1', \"liblinear\")\n",
    "\n",
    "performance_measurement(y_test, y_pred_log_l1)"
   ]
  },
  {
   "cell_type": "markdown",
   "metadata": {},
   "source": [
    "### Logistic Regression with L2 Regularization"
   ]
  },
  {
   "cell_type": "code",
   "execution_count": 22,
   "metadata": {},
   "outputs": [
    {
     "name": "stdout",
     "output_type": "stream",
     "text": [
      "Accuracy:  0.9408036256752984\n",
      "Precision:  0.725886524822695\n",
      "Recall:  0.13043201223397477\n",
      "F1-Score: 0.22112995570919305\n"
     ]
    }
   ],
   "source": [
    "y_pred_log_l2 = logistic_regression(x_train_reduced, y_train, x_test_reduced, 'l2', \"liblinear\")\n",
    "\n",
    "performance_measurement(y_test, y_pred_log_l2)"
   ]
  },
  {
   "cell_type": "markdown",
   "metadata": {},
   "source": [
    "# Outlier Detection"
   ]
  },
  {
   "cell_type": "code",
   "execution_count": 23,
   "metadata": {},
   "outputs": [],
   "source": [
    "from sklearn.neighbors import LocalOutlierFactor\n",
    "\n",
    "\n",
    "lof = LocalOutlierFactor()\n",
    "yhat = lof.fit_predict(x_train)\n",
    "\n",
    "# select all rows that are not outliers\n",
    "mask = yhat != -1\n",
    "x_train_without_outliers, y_train_without_outliers = x_train[mask], y_train[mask]"
   ]
  },
  {
   "cell_type": "code",
   "execution_count": 24,
   "metadata": {},
   "outputs": [
    {
     "name": "stdout",
     "output_type": "stream",
     "text": [
      "Unique values: [-1  1], Amount accordingly: [ 15651 390921]\n",
      "We deleted 3.85% amount of data\n"
     ]
    }
   ],
   "source": [
    "unique_values, counts = np.unique(yhat, return_counts = True)\n",
    "print(f\"Unique values: {unique_values}, Amount accordingly: {counts}\")\n",
    "\n",
    "percentage =  counts[0] / len(x_train) * 100\n",
    "print(f\"We deleted {percentage:.2f}% amount of data\")"
   ]
  },
  {
   "cell_type": "markdown",
   "metadata": {},
   "source": [
    "## Balancing detecting"
   ]
  },
  {
   "cell_type": "code",
   "execution_count": 25,
   "metadata": {},
   "outputs": [
    {
     "name": "stdout",
     "output_type": "stream",
     "text": [
      "Unique values: [0 1], Amount accordingly: [365285  25636]\n"
     ]
    }
   ],
   "source": [
    "unique_values, counts = np.unique(y_train_without_outliers, return_counts = True)\n",
    "print(f\"Unique values: {unique_values}, Amount accordingly: {counts}\")"
   ]
  },
  {
   "cell_type": "markdown",
   "metadata": {},
   "source": [
    "We see that class \"1\" is less in the number of samples than class \"0\""
   ]
  },
  {
   "cell_type": "markdown",
   "metadata": {},
   "source": [
    "#### Undersampling"
   ]
  },
  {
   "cell_type": "code",
   "execution_count": 26,
   "metadata": {},
   "outputs": [
    {
     "name": "stdout",
     "output_type": "stream",
     "text": [
      "Unique values: [0 1], Amount accordingly: [25636 25636]\n"
     ]
    }
   ],
   "source": [
    "from imblearn.under_sampling import RandomUnderSampler, NearMiss\n",
    "from collections import Counter\n",
    "\n",
    "# Randomly under sample the majority class\n",
    "rus = RandomUnderSampler(random_state=42)\n",
    "x_train_rus, y_train_rus= rus.fit_resample(x_train_without_outliers, y_train_without_outliers)\n",
    "# Check the number of records after under sampling\n",
    "# print(sorted(Counter(y_train_rus).items()))\n",
    "unique_values, counts = np.unique(y_train_rus, return_counts = True)\n",
    "print(f\"Unique values: {unique_values}, Amount accordingly: {counts}\")"
   ]
  },
  {
   "cell_type": "markdown",
   "metadata": {},
   "source": [
    "## Preprocessing"
   ]
  },
  {
   "cell_type": "code",
   "execution_count": 27,
   "metadata": {},
   "outputs": [],
   "source": [
    "scaled_train_without_outliers, scaled_test = scaler(MinMaxScaler, x_train_rus, x_test)"
   ]
  },
  {
   "cell_type": "markdown",
   "metadata": {},
   "source": [
    "## Removing the same features"
   ]
  },
  {
   "cell_type": "code",
   "execution_count": 28,
   "metadata": {},
   "outputs": [],
   "source": [
    "x_train_reduced_without_outliers = scaled_train_without_outliers.drop(remove_columns, axis = 1)\n",
    "x_test_reduced = scaled_test.drop(remove_columns, axis = 1)"
   ]
  },
  {
   "cell_type": "markdown",
   "metadata": {},
   "source": [
    "## Logistic Regression"
   ]
  },
  {
   "cell_type": "code",
   "execution_count": 29,
   "metadata": {},
   "outputs": [
    {
     "name": "stdout",
     "output_type": "stream",
     "text": [
      "Accuracy:  0.8825678582571143\n",
      "Precision:  0.2757710475131981\n",
      "Recall:  0.5059258315279724\n",
      "F1-Score: 0.35696623656880816\n"
     ]
    }
   ],
   "source": [
    "y_pred_log_without_outliers = logistic_regression(x_train_reduced_without_outliers, y_train_rus, x_test_reduced, 'none', \"lbfgs\")\n",
    "\n",
    "performance_measurement(y_test, y_pred_log_without_outliers)"
   ]
  },
  {
   "cell_type": "code",
   "execution_count": null,
   "metadata": {},
   "outputs": [],
   "source": []
  }
 ],
 "metadata": {
  "kernelspec": {
   "display_name": "Python 3.10.2 64-bit (system)",
   "language": "python",
   "name": "python3"
  },
  "language_info": {
   "codemirror_mode": {
    "name": "ipython",
    "version": 3
   },
   "file_extension": ".py",
   "mimetype": "text/x-python",
   "name": "python",
   "nbconvert_exporter": "python",
   "pygments_lexer": "ipython3",
   "version": "3.10.2"
  },
  "orig_nbformat": 4,
  "vscode": {
   "interpreter": {
    "hash": "6907ccc19c0af1b11b14e13a188fa6ffe60fcd7a4ebcac685def92048f0916bb"
   }
  }
 },
 "nbformat": 4,
 "nbformat_minor": 2
}
