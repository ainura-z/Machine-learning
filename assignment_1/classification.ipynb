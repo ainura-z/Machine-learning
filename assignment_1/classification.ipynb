{
 "cells": [
  {
   "cell_type": "code",
   "execution_count": 4,
   "metadata": {},
   "outputs": [],
   "source": [
    "import pandas as pd\n",
    "import numpy as np\n",
    "import matplotlib.pyplot as plt\n",
    "%matplotlib inline"
   ]
  },
  {
   "cell_type": "markdown",
   "metadata": {},
   "source": [
    "## 1. Read data"
   ]
  },
  {
   "cell_type": "code",
   "execution_count": 5,
   "metadata": {},
   "outputs": [],
   "source": [
    "df_train = pd.read_csv('stream_quality_data/train_data.csv')\n",
    "df_test = pd.read_csv('stream_quality_data/test_data.csv')"
   ]
  },
  {
   "cell_type": "markdown",
   "metadata": {},
   "source": [
    "# 2. Data Exploration"
   ]
  },
  {
   "cell_type": "code",
   "execution_count": 6,
   "metadata": {},
   "outputs": [
    {
     "name": "stdout",
     "output_type": "stream",
     "text": [
      "Number of rows and columns in the training data set:  (406572, 12)\n"
     ]
    },
    {
     "data": {
      "text/html": [
       "<div>\n",
       "<style scoped>\n",
       "    .dataframe tbody tr th:only-of-type {\n",
       "        vertical-align: middle;\n",
       "    }\n",
       "\n",
       "    .dataframe tbody tr th {\n",
       "        vertical-align: top;\n",
       "    }\n",
       "\n",
       "    .dataframe thead th {\n",
       "        text-align: right;\n",
       "    }\n",
       "</style>\n",
       "<table border=\"1\" class=\"dataframe\">\n",
       "  <thead>\n",
       "    <tr style=\"text-align: right;\">\n",
       "      <th></th>\n",
       "      <th>fps_mean</th>\n",
       "      <th>fps_std</th>\n",
       "      <th>fps_lags</th>\n",
       "      <th>rtt_mean</th>\n",
       "      <th>rtt_std</th>\n",
       "      <th>dropped_frames_mean</th>\n",
       "      <th>dropped_frames_std</th>\n",
       "      <th>dropped_frames_max</th>\n",
       "      <th>auto_bitrate_state</th>\n",
       "      <th>auto_fec_state</th>\n",
       "      <th>auto_fec_mean</th>\n",
       "      <th>stream_quality</th>\n",
       "    </tr>\n",
       "  </thead>\n",
       "  <tbody>\n",
       "    <tr>\n",
       "      <th>0</th>\n",
       "      <td>24.4</td>\n",
       "      <td>0.516398</td>\n",
       "      <td>0</td>\n",
       "      <td>91.1</td>\n",
       "      <td>6.723921</td>\n",
       "      <td>0.0</td>\n",
       "      <td>0.0</td>\n",
       "      <td>0.0</td>\n",
       "      <td>off</td>\n",
       "      <td>partial</td>\n",
       "      <td>50.0</td>\n",
       "      <td>0</td>\n",
       "    </tr>\n",
       "    <tr>\n",
       "      <th>1</th>\n",
       "      <td>28.6</td>\n",
       "      <td>2.065591</td>\n",
       "      <td>0</td>\n",
       "      <td>99.7</td>\n",
       "      <td>15.923777</td>\n",
       "      <td>0.0</td>\n",
       "      <td>0.0</td>\n",
       "      <td>0.0</td>\n",
       "      <td>off</td>\n",
       "      <td>partial</td>\n",
       "      <td>50.0</td>\n",
       "      <td>0</td>\n",
       "    </tr>\n",
       "    <tr>\n",
       "      <th>2</th>\n",
       "      <td>30.0</td>\n",
       "      <td>0.000000</td>\n",
       "      <td>0</td>\n",
       "      <td>98.1</td>\n",
       "      <td>11.798776</td>\n",
       "      <td>0.0</td>\n",
       "      <td>0.0</td>\n",
       "      <td>0.0</td>\n",
       "      <td>off</td>\n",
       "      <td>partial</td>\n",
       "      <td>50.0</td>\n",
       "      <td>0</td>\n",
       "    </tr>\n",
       "    <tr>\n",
       "      <th>3</th>\n",
       "      <td>30.3</td>\n",
       "      <td>0.948683</td>\n",
       "      <td>0</td>\n",
       "      <td>99.4</td>\n",
       "      <td>13.014522</td>\n",
       "      <td>0.0</td>\n",
       "      <td>0.0</td>\n",
       "      <td>0.0</td>\n",
       "      <td>off</td>\n",
       "      <td>partial</td>\n",
       "      <td>50.0</td>\n",
       "      <td>0</td>\n",
       "    </tr>\n",
       "    <tr>\n",
       "      <th>4</th>\n",
       "      <td>29.9</td>\n",
       "      <td>0.316228</td>\n",
       "      <td>0</td>\n",
       "      <td>123.2</td>\n",
       "      <td>62.476307</td>\n",
       "      <td>0.0</td>\n",
       "      <td>0.0</td>\n",
       "      <td>0.0</td>\n",
       "      <td>off</td>\n",
       "      <td>partial</td>\n",
       "      <td>50.0</td>\n",
       "      <td>0</td>\n",
       "    </tr>\n",
       "  </tbody>\n",
       "</table>\n",
       "</div>"
      ],
      "text/plain": [
       "   fps_mean   fps_std  fps_lags  rtt_mean    rtt_std  dropped_frames_mean  \\\n",
       "0      24.4  0.516398         0      91.1   6.723921                  0.0   \n",
       "1      28.6  2.065591         0      99.7  15.923777                  0.0   \n",
       "2      30.0  0.000000         0      98.1  11.798776                  0.0   \n",
       "3      30.3  0.948683         0      99.4  13.014522                  0.0   \n",
       "4      29.9  0.316228         0     123.2  62.476307                  0.0   \n",
       "\n",
       "   dropped_frames_std  dropped_frames_max auto_bitrate_state auto_fec_state  \\\n",
       "0                 0.0                 0.0                off        partial   \n",
       "1                 0.0                 0.0                off        partial   \n",
       "2                 0.0                 0.0                off        partial   \n",
       "3                 0.0                 0.0                off        partial   \n",
       "4                 0.0                 0.0                off        partial   \n",
       "\n",
       "   auto_fec_mean  stream_quality  \n",
       "0           50.0               0  \n",
       "1           50.0               0  \n",
       "2           50.0               0  \n",
       "3           50.0               0  \n",
       "4           50.0               0  "
      ]
     },
     "execution_count": 6,
     "metadata": {},
     "output_type": "execute_result"
    }
   ],
   "source": [
    "print('Number of rows and columns in the training data set: ',df_train.shape)\n",
    "df_train.head(5)"
   ]
  },
  {
   "cell_type": "code",
   "execution_count": 7,
   "metadata": {},
   "outputs": [
    {
     "name": "stdout",
     "output_type": "stream",
     "text": [
      "Number categorical featues: 2\n",
      "fps_mean               float64\n",
      "fps_std                float64\n",
      "fps_lags                 int64\n",
      "rtt_mean               float64\n",
      "rtt_std                float64\n",
      "dropped_frames_mean    float64\n",
      "dropped_frames_std     float64\n",
      "dropped_frames_max     float64\n",
      "auto_bitrate_state      object\n",
      "auto_fec_state          object\n",
      "auto_fec_mean          float64\n",
      "stream_quality           int64\n",
      "dtype: object\n"
     ]
    }
   ],
   "source": [
    "types = df_train.dtypes\n",
    "print(\"Number categorical featues:\", sum(types=='object'))\n",
    "print(types)"
   ]
  },
  {
   "cell_type": "code",
   "execution_count": 8,
   "metadata": {},
   "outputs": [
    {
     "data": {
      "text/html": [
       "<div>\n",
       "<style scoped>\n",
       "    .dataframe tbody tr th:only-of-type {\n",
       "        vertical-align: middle;\n",
       "    }\n",
       "\n",
       "    .dataframe tbody tr th {\n",
       "        vertical-align: top;\n",
       "    }\n",
       "\n",
       "    .dataframe thead th {\n",
       "        text-align: right;\n",
       "    }\n",
       "</style>\n",
       "<table border=\"1\" class=\"dataframe\">\n",
       "  <thead>\n",
       "    <tr style=\"text-align: right;\">\n",
       "      <th></th>\n",
       "      <th>count</th>\n",
       "      <th>mean</th>\n",
       "      <th>std</th>\n",
       "      <th>min</th>\n",
       "      <th>25%</th>\n",
       "      <th>50%</th>\n",
       "      <th>75%</th>\n",
       "      <th>max</th>\n",
       "    </tr>\n",
       "  </thead>\n",
       "  <tbody>\n",
       "    <tr>\n",
       "      <th>fps_mean</th>\n",
       "      <td>406572.0</td>\n",
       "      <td>3.449756e+01</td>\n",
       "      <td>1.162549e+01</td>\n",
       "      <td>0.0</td>\n",
       "      <td>28.300000</td>\n",
       "      <td>30.000000</td>\n",
       "      <td>43.000000</td>\n",
       "      <td>1.271000e+02</td>\n",
       "    </tr>\n",
       "    <tr>\n",
       "      <th>fps_std</th>\n",
       "      <td>406572.0</td>\n",
       "      <td>2.285486e+00</td>\n",
       "      <td>3.708531e+00</td>\n",
       "      <td>0.0</td>\n",
       "      <td>0.316228</td>\n",
       "      <td>0.994429</td>\n",
       "      <td>2.590581</td>\n",
       "      <td>3.125408e+02</td>\n",
       "    </tr>\n",
       "    <tr>\n",
       "      <th>fps_lags</th>\n",
       "      <td>406572.0</td>\n",
       "      <td>1.831508e-01</td>\n",
       "      <td>1.099384e+00</td>\n",
       "      <td>0.0</td>\n",
       "      <td>0.000000</td>\n",
       "      <td>0.000000</td>\n",
       "      <td>0.000000</td>\n",
       "      <td>1.000000e+01</td>\n",
       "    </tr>\n",
       "    <tr>\n",
       "      <th>rtt_mean</th>\n",
       "      <td>406572.0</td>\n",
       "      <td>5.431440e+01</td>\n",
       "      <td>1.338721e+02</td>\n",
       "      <td>0.0</td>\n",
       "      <td>14.100000</td>\n",
       "      <td>32.300000</td>\n",
       "      <td>57.100000</td>\n",
       "      <td>1.289840e+04</td>\n",
       "    </tr>\n",
       "    <tr>\n",
       "      <th>rtt_std</th>\n",
       "      <td>406572.0</td>\n",
       "      <td>1.952502e+01</td>\n",
       "      <td>1.563643e+02</td>\n",
       "      <td>0.0</td>\n",
       "      <td>0.699206</td>\n",
       "      <td>1.490712</td>\n",
       "      <td>5.334375</td>\n",
       "      <td>4.072193e+04</td>\n",
       "    </tr>\n",
       "    <tr>\n",
       "      <th>dropped_frames_mean</th>\n",
       "      <td>406572.0</td>\n",
       "      <td>1.730432e+06</td>\n",
       "      <td>4.930091e+07</td>\n",
       "      <td>0.0</td>\n",
       "      <td>0.000000</td>\n",
       "      <td>0.000000</td>\n",
       "      <td>0.000000</td>\n",
       "      <td>2.097289e+09</td>\n",
       "    </tr>\n",
       "    <tr>\n",
       "      <th>dropped_frames_std</th>\n",
       "      <td>406572.0</td>\n",
       "      <td>1.378279e+05</td>\n",
       "      <td>9.229776e+06</td>\n",
       "      <td>0.0</td>\n",
       "      <td>0.000000</td>\n",
       "      <td>0.000000</td>\n",
       "      <td>0.000000</td>\n",
       "      <td>9.963751e+08</td>\n",
       "    </tr>\n",
       "    <tr>\n",
       "      <th>dropped_frames_max</th>\n",
       "      <td>406572.0</td>\n",
       "      <td>1.893339e+06</td>\n",
       "      <td>5.241003e+07</td>\n",
       "      <td>0.0</td>\n",
       "      <td>0.000000</td>\n",
       "      <td>0.000000</td>\n",
       "      <td>0.000000</td>\n",
       "      <td>2.097289e+09</td>\n",
       "    </tr>\n",
       "    <tr>\n",
       "      <th>auto_fec_mean</th>\n",
       "      <td>406572.0</td>\n",
       "      <td>5.141354e+01</td>\n",
       "      <td>3.483604e+01</td>\n",
       "      <td>0.0</td>\n",
       "      <td>50.000000</td>\n",
       "      <td>50.000000</td>\n",
       "      <td>50.000000</td>\n",
       "      <td>2.500000e+02</td>\n",
       "    </tr>\n",
       "    <tr>\n",
       "      <th>stream_quality</th>\n",
       "      <td>406572.0</td>\n",
       "      <td>6.846020e-02</td>\n",
       "      <td>2.525343e-01</td>\n",
       "      <td>0.0</td>\n",
       "      <td>0.000000</td>\n",
       "      <td>0.000000</td>\n",
       "      <td>0.000000</td>\n",
       "      <td>1.000000e+00</td>\n",
       "    </tr>\n",
       "  </tbody>\n",
       "</table>\n",
       "</div>"
      ],
      "text/plain": [
       "                        count          mean           std  min        25%  \\\n",
       "fps_mean             406572.0  3.449756e+01  1.162549e+01  0.0  28.300000   \n",
       "fps_std              406572.0  2.285486e+00  3.708531e+00  0.0   0.316228   \n",
       "fps_lags             406572.0  1.831508e-01  1.099384e+00  0.0   0.000000   \n",
       "rtt_mean             406572.0  5.431440e+01  1.338721e+02  0.0  14.100000   \n",
       "rtt_std              406572.0  1.952502e+01  1.563643e+02  0.0   0.699206   \n",
       "dropped_frames_mean  406572.0  1.730432e+06  4.930091e+07  0.0   0.000000   \n",
       "dropped_frames_std   406572.0  1.378279e+05  9.229776e+06  0.0   0.000000   \n",
       "dropped_frames_max   406572.0  1.893339e+06  5.241003e+07  0.0   0.000000   \n",
       "auto_fec_mean        406572.0  5.141354e+01  3.483604e+01  0.0  50.000000   \n",
       "stream_quality       406572.0  6.846020e-02  2.525343e-01  0.0   0.000000   \n",
       "\n",
       "                           50%        75%           max  \n",
       "fps_mean             30.000000  43.000000  1.271000e+02  \n",
       "fps_std               0.994429   2.590581  3.125408e+02  \n",
       "fps_lags              0.000000   0.000000  1.000000e+01  \n",
       "rtt_mean             32.300000  57.100000  1.289840e+04  \n",
       "rtt_std               1.490712   5.334375  4.072193e+04  \n",
       "dropped_frames_mean   0.000000   0.000000  2.097289e+09  \n",
       "dropped_frames_std    0.000000   0.000000  9.963751e+08  \n",
       "dropped_frames_max    0.000000   0.000000  2.097289e+09  \n",
       "auto_fec_mean        50.000000  50.000000  2.500000e+02  \n",
       "stream_quality        0.000000   0.000000  1.000000e+00  "
      ]
     },
     "execution_count": 8,
     "metadata": {},
     "output_type": "execute_result"
    }
   ],
   "source": [
    "df_train_describe = df_train.describe().T\n",
    "df_train_describe"
   ]
  },
  {
   "cell_type": "code",
   "execution_count": 9,
   "metadata": {},
   "outputs": [
    {
     "data": {
      "text/plain": [
       "fps_mean               0\n",
       "fps_std                0\n",
       "fps_lags               0\n",
       "rtt_mean               0\n",
       "rtt_std                0\n",
       "dropped_frames_mean    0\n",
       "dropped_frames_std     0\n",
       "dropped_frames_max     0\n",
       "auto_bitrate_state     0\n",
       "auto_fec_state         0\n",
       "auto_fec_mean          0\n",
       "stream_quality         0\n",
       "dtype: int64"
      ]
     },
     "execution_count": 9,
     "metadata": {},
     "output_type": "execute_result"
    }
   ],
   "source": [
    "df_train.isna().sum()"
   ]
  },
  {
   "cell_type": "markdown",
   "metadata": {},
   "source": [
    "No missing values, 2 categorical features"
   ]
  },
  {
   "cell_type": "markdown",
   "metadata": {},
   "source": [
    "## 3. Data Preprocessing"
   ]
  },
  {
   "cell_type": "markdown",
   "metadata": {},
   "source": [
    "### Encoding the categorical features"
   ]
  },
  {
   "cell_type": "code",
   "execution_count": 10,
   "metadata": {},
   "outputs": [],
   "source": [
    "from sklearn.preprocessing import LabelEncoder\n",
    "\n",
    "\n",
    "# extracting the names of categorical features\n",
    "cat_feats = df_train.select_dtypes(include=['object']).columns.tolist()\n",
    "\n",
    "encoder = LabelEncoder()\n",
    "\n",
    "# creating a copy of dataset to save our initial data\n",
    "df_train_encoded = df_train.copy()\n",
    "df_test_encoded = df_test.copy()\n",
    "\n",
    "# fit and transform the data \n",
    "for name in cat_feats:\n",
    "    encoder.fit(df_train[name])\n",
    "    df_train_encoded[name] = encoder.transform(df_train[name])\n",
    "    df_test_encoded[name] = encoder.transform(df_test[name])"
   ]
  },
  {
   "cell_type": "markdown",
   "metadata": {},
   "source": [
    "### TrainTest splitting"
   ]
  },
  {
   "cell_type": "code",
   "execution_count": 11,
   "metadata": {},
   "outputs": [
    {
     "name": "stdout",
     "output_type": "stream",
     "text": [
      "(406572, 11) (243596, 11)\n"
     ]
    }
   ],
   "source": [
    "x_train, y_train, x_test, y_test = df_train_encoded.iloc[:, :-1], df_train_encoded.iloc[:, -1],\\\n",
    "                                   df_test_encoded.iloc[:, :-1], df_test_encoded.iloc[:, -1]\n",
    "\n",
    "print(x_train.shape, x_test.shape)"
   ]
  },
  {
   "cell_type": "markdown",
   "metadata": {},
   "source": [
    "### Features Scaling"
   ]
  },
  {
   "cell_type": "code",
   "execution_count": 12,
   "metadata": {},
   "outputs": [],
   "source": [
    "# function for scaling\n",
    "def scaler(scaler_name, x_train, x_test):\n",
    "    \"\"\" \n",
    "        This function scales our features by using scaler_name method.\n",
    "        For example, scaler_name can be MinMaxScaler or StandartScaler, or any other.    \n",
    "    \"\"\"\n",
    "    scaler = scaler_name()\n",
    "    # fit it to the data.\n",
    "    scaler.fit(x_train)\n",
    "    # transform the data\n",
    "    scaled_data_train = pd.DataFrame(scaler.transform(x_train), columns = x_train.columns)\n",
    "    scaled_data_test = pd.DataFrame(scaler.transform(x_test), columns = x_test.columns)\n",
    "\n",
    "    return scaled_data_train, scaled_data_test"
   ]
  },
  {
   "cell_type": "code",
   "execution_count": 13,
   "metadata": {},
   "outputs": [],
   "source": [
    "from sklearn.preprocessing import MinMaxScaler\n",
    "\n",
    "\n",
    "scaled_data_train, scaled_data_test = scaler(MinMaxScaler, x_train, x_test)"
   ]
  },
  {
   "cell_type": "markdown",
   "metadata": {},
   "source": [
    "## 5. Data Visualization"
   ]
  },
  {
   "cell_type": "markdown",
   "metadata": {},
   "source": [
    "### PCA"
   ]
  },
  {
   "cell_type": "code",
   "execution_count": 14,
   "metadata": {},
   "outputs": [
    {
     "data": {
      "text/plain": [
       "<seaborn.axisgrid.FacetGrid at 0x1d728a679d0>"
      ]
     },
     "execution_count": 14,
     "metadata": {},
     "output_type": "execute_result"
    },
    {
     "data": {
      "image/png": "[encoded data removed]",
      "text/plain": [
       "<Figure size 442.25x360 with 1 Axes>"
      ]
     },
     "metadata": {
      "needs_background": "light"
     },
     "output_type": "display_data"
    }
   ],
   "source": [
    "import seaborn as sns\n",
    "from sklearn.decomposition import PCA\n",
    "\n",
    "\n",
    "dim_reducer = PCA(n_components=2)\n",
    "x_train_reduced = dim_reducer.fit_transform(scaled_data_train)\n",
    "df_pca = pd.DataFrame(x_train_reduced, columns = ['Component1', 'Component2'])\n",
    "df_pca['stream_quality'] = y_train\n",
    "\n",
    "\n",
    "ax = sns.lmplot(x = 'Component1', y  = 'Component2', hue = 'stream_quality', data = df_pca, fit_reg = False)\n",
    "ax.set_xlabels('Component 1')\n",
    "ax.set_ylabels('Component 2')"
   ]
  },
  {
   "cell_type": "markdown",
   "metadata": {},
   "source": [
    "#### Considering the categorical features"
   ]
  },
  {
   "cell_type": "code",
   "execution_count": 15,
   "metadata": {},
   "outputs": [
    {
     "data": {
      "text/plain": [
       "<AxesSubplot:xlabel='auto_fec_state', ylabel='Probability'>"
      ]
     },
     "execution_count": 15,
     "metadata": {},
     "output_type": "execute_result"
    },
    {
     "data": {
      "image/png": "[encoded data removed]",
      "text/plain": [
       "<Figure size 432x288 with 1 Axes>"
      ]
     },
     "metadata": {
      "needs_background": "light"
     },
     "output_type": "display_data"
    }
   ],
   "source": [
    "sns.histplot(\n",
    "    data=df_train,\n",
    "    x=\"auto_fec_state\",\n",
    "    hue=\"stream_quality\",\n",
    "    multiple=\"dodge\",\n",
    "    shrink=0.8,\n",
    "    common_norm=False,\n",
    "    stat=\"probability\",\n",
    ")"
   ]
  },
  {
   "cell_type": "code",
   "execution_count": 16,
   "metadata": {},
   "outputs": [
    {
     "data": {
      "text/plain": [
       "<AxesSubplot:xlabel='auto_bitrate_state', ylabel='Probability'>"
      ]
     },
     "execution_count": 16,
     "metadata": {},
     "output_type": "execute_result"
    },
    {
     "data": {
      "image/png": "[encoded data removed]",
      "text/plain": [
       "<Figure size 432x288 with 1 Axes>"
      ]
     },
     "metadata": {
      "needs_background": "light"
     },
     "output_type": "display_data"
    }
   ],
   "source": [
    "sns.histplot(\n",
    "    data=df_train,\n",
    "    x=\"auto_bitrate_state\",\n",
    "    hue=\"stream_quality\",\n",
    "    multiple=\"dodge\",\n",
    "    shrink=0.8,\n",
    "    common_norm=False,\n",
    "    stat=\"probability\",\n",
    ")"
   ]
  },
  {
   "cell_type": "markdown",
   "metadata": {},
   "source": [
    "Considering the distributions of numeric features according to the classes"
   ]
  },
  {
   "cell_type": "code",
   "execution_count": 17,
   "metadata": {},
   "outputs": [
    {
     "data": {
      "image/png": "[encoded data removed]",
      "text/plain": [
       "<Figure size 1296x720 with 6 Axes>"
      ]
     },
     "metadata": {
      "needs_background": "light"
     },
     "output_type": "display_data"
    }
   ],
   "source": [
    "df = df_train.select_dtypes(exclude=[\"object\"]).drop(\n",
    "    [\n",
    "        \"stream_quality\",\n",
    "        \"dropped_frames_std\",\n",
    "        \"dropped_frames_max\",\n",
    "        \"fps_lags\",\n",
    "        \"dropped_frames_mean\",\n",
    "    ],\n",
    "    axis=1,\n",
    ")\n",
    "\n",
    "n_plots = len(df.columns)\n",
    "fig, ax = plt.subplots(2, int(n_plots / 2) + 1, figsize=[18, 10])\n",
    "\n",
    "for i in range(0, n_plots, 2):\n",
    "\n",
    "    name_i = df.iloc[:, i].name\n",
    "    name_i_1 = df.iloc[:, i + 1].name if (i + 1) < n_plots else None\n",
    "\n",
    "    sns.kdeplot(\n",
    "        ax=ax[0][int(i / 2)],\n",
    "        data=df_train,\n",
    "        x=df_train[df_train[name_i] < df_train_describe.loc[name_i][\"75%\"]][name_i],\n",
    "        hue=\"stream_quality\",\n",
    "        common_norm=False,\n",
    "    )\n",
    "\n",
    "    if (i + 1) < n_plots:\n",
    "        sns.kdeplot(\n",
    "            ax=ax[1][int(i / 2)],\n",
    "            data=df_train,\n",
    "            x=df_train[df_train[name_i_1] < df_train_describe.loc[name_i_1][\"75%\"]][\n",
    "                name_i_1\n",
    "            ],\n",
    "            hue=\"stream_quality\",\n",
    "            common_norm=False,\n",
    "        )\n",
    "\n",
    "plt.show()"
   ]
  },
  {
   "cell_type": "code",
   "execution_count": 18,
   "metadata": {},
   "outputs": [
    {
     "data": {
      "text/plain": [
       "<AxesSubplot:xlabel='fps_lags', ylabel='Density'>"
      ]
     },
     "execution_count": 18,
     "metadata": {},
     "output_type": "execute_result"
    },
    {
     "data": {
      "image/png": "[encoded data removed]",
      "text/plain": [
       "<Figure size 432x288 with 1 Axes>"
      ]
     },
     "metadata": {
      "needs_background": "light"
     },
     "output_type": "display_data"
    }
   ],
   "source": [
    "sns.kdeplot(\n",
    "    data=df_train,\n",
    "    x=df_train[df_train[\"fps_lags\"] < 2][\"fps_lags\"],\n",
    "    hue=\"stream_quality\",\n",
    "    common_norm=False,\n",
    ")"
   ]
  },
  {
   "cell_type": "code",
   "execution_count": 19,
   "metadata": {},
   "outputs": [
    {
     "data": {
      "image/png": "[encoded data removed]",
      "text/plain": [
       "<Figure size 1080x288 with 3 Axes>"
      ]
     },
     "metadata": {
      "needs_background": "light"
     },
     "output_type": "display_data"
    }
   ],
   "source": [
    "columns_name = [\"dropped_frames_std\",\"dropped_frames_max\", \"dropped_frames_mean\"]\n",
    "n_plots = 3\n",
    "fig, ax = plt.subplots(1, 3, figsize=[15, 4])\n",
    "\n",
    "for i in range(0, n_plots):\n",
    "\n",
    "    sns.histplot(\n",
    "        ax=ax[i],\n",
    "        data=df_train,\n",
    "        x=df_train[columns_name[i]],\n",
    "        hue=\"stream_quality\",\n",
    "        common_norm=False,\n",
    "        multiple = \"dodge\", \n",
    "        shrink = .8,\n",
    "        stat = \"probability\"\n",
    "    )\n",
    "\n",
    "plt.show()"
   ]
  },
  {
   "cell_type": "markdown",
   "metadata": {},
   "source": [
    "The main meaning is that if distributions of feature regarding target classes are different, then we can make an assumption that this feature has some impact on target. For example, \"auto_fec_mean\" has very similar distributions, it means that there is no obvious sign of dependence, however, it is possible that \"auto_fec_mean\" has an impact in a group with other features."
   ]
  },
  {
   "cell_type": "markdown",
   "metadata": {},
   "source": [
    "## 6. Feature Selection"
   ]
  },
  {
   "cell_type": "code",
   "execution_count": 20,
   "metadata": {},
   "outputs": [
    {
     "name": "stdout",
     "output_type": "stream",
     "text": [
      "Columns with constant value: []\n",
      "Columns with 99.0 % distinct values: []\n"
     ]
    }
   ],
   "source": [
    "len_df = len(scaled_data_train)\n",
    "unique_vlaues_in_columns = scaled_data_train.nunique()\n",
    "\n",
    "columns_with_constant_value = scaled_data_train.columns[unique_vlaues_in_columns <= 1]\n",
    "print(\"Columns with constant value:\", columns_with_constant_value.tolist())\n",
    "\n",
    "threshold = 0.99\n",
    "columns_with_distinct_values = scaled_data_train.columns[unique_vlaues_in_columns / len_df > threshold]\n",
    "print(f\"Columns with {threshold * 100} % distinct values: {columns_with_distinct_values.tolist()}\")"
   ]
  },
  {
   "cell_type": "markdown",
   "metadata": {},
   "source": [
    "### Correlation"
   ]
  },
  {
   "cell_type": "code",
   "execution_count": 21,
   "metadata": {},
   "outputs": [
    {
     "data": {
      "text/plain": [
       "<AxesSubplot:>"
      ]
     },
     "execution_count": 21,
     "metadata": {},
     "output_type": "execute_result"
    },
    {
     "data": {
      "image/png": "[encoded data removed]",
      "text/plain": [
       "<Figure size 720x576 with 2 Axes>"
      ]
     },
     "metadata": {
      "needs_background": "light"
     },
     "output_type": "display_data"
    }
   ],
   "source": [
    "import seaborn as sns\n",
    "\n",
    "\n",
    "fig, ax = plt.subplots(figsize=(10,8))        \n",
    "sns.heatmap(df_train_encoded.corr(), annot=True, cmap=plt.cm.Reds, linewidths=.5, ax=ax)"
   ]
  },
  {
   "cell_type": "markdown",
   "metadata": {},
   "source": [
    "### VIF- Variance Inflation Factor - measure of the amount of multicollinearity"
   ]
  },
  {
   "cell_type": "code",
   "execution_count": 22,
   "metadata": {},
   "outputs": [
    {
     "name": "stdout",
     "output_type": "stream",
     "text": [
      "                feature        VIF\n",
      "0              fps_mean   6.422491\n",
      "1               fps_std   1.550838\n",
      "2              fps_lags   1.222571\n",
      "3              rtt_mean   2.792360\n",
      "4               rtt_std   2.500245\n",
      "5   dropped_frames_mean  71.488734\n",
      "6    dropped_frames_std   4.397023\n",
      "7    dropped_frames_max  81.867632\n",
      "8    auto_bitrate_state   4.218060\n",
      "9        auto_fec_state   8.774668\n",
      "10        auto_fec_mean   4.497278\n"
     ]
    }
   ],
   "source": [
    "from statsmodels.stats.outliers_influence import variance_inflation_factor\n",
    "\n",
    "\n",
    "# VIF dataFrame\n",
    "vif_data = pd.DataFrame()\n",
    "vif_data['feature'] = x_train.columns\n",
    "\n",
    "# calculating VIF for each feature\n",
    "vif_data['VIF'] = [variance_inflation_factor(x_train.values, i) for i in range(len(x_train.columns))]\n",
    "\n",
    "print(vif_data)"
   ]
  },
  {
   "cell_type": "markdown",
   "metadata": {},
   "source": [
    "We can see very large values for \"dropped_max\" and \"dropped_mean\". According to VIF, they have correlation with each other, what can be proved by looking at the correlation matrix as well."
   ]
  },
  {
   "cell_type": "markdown",
   "metadata": {},
   "source": [
    "### Lasso feature selection"
   ]
  },
  {
   "cell_type": "code",
   "execution_count": 23,
   "metadata": {},
   "outputs": [
    {
     "data": {
      "text/plain": [
       "array([[-3.28128776, 35.25556813,  8.35392066,  7.66864364,  0.        ,\n",
       "         0.        ,  0.        ,  0.87916225, -0.55743383,  0.52160638,\n",
       "         0.13691467]])"
      ]
     },
     "execution_count": 23,
     "metadata": {},
     "output_type": "execute_result"
    }
   ],
   "source": [
    "from sklearn.linear_model import LogisticRegression\n",
    "\n",
    "log = LogisticRegression(penalty = 'l1', solver = 'liblinear').fit(scaled_data_train, y_train)\n",
    "log.coef_"
   ]
  },
  {
   "cell_type": "markdown",
   "metadata": {},
   "source": [
    "We can see that Lasso chose only 3 feature as meaningless, that is \"rtt_std\", \"dropped_frames_mean\", and \"dropped_frames_std\"."
   ]
  },
  {
   "cell_type": "code",
   "execution_count": 24,
   "metadata": {},
   "outputs": [
    {
     "name": "stdout",
     "output_type": "stream",
     "text": [
      "\n",
      "The shape of reduced training set: (406572, 7)\n",
      "The shape of reduced test set: (243596, 7)\n"
     ]
    }
   ],
   "source": [
    "# removing the features from training and test set\n",
    "remove_columns = [\"rtt_std\", \"dropped_frames_mean\", \"dropped_frames_std\", \"auto_fec_mean\"]\n",
    "\n",
    "x_train_reduced = scaled_data_train.drop(remove_columns, axis = 1)\n",
    "x_test_reduced = scaled_data_test.drop(remove_columns, axis = 1)\n",
    "\n",
    "print(f\"\\nThe shape of reduced training set: {x_train_reduced.shape}\")\n",
    "print(f\"The shape of reduced test set: {x_test_reduced.shape}\")"
   ]
  },
  {
   "cell_type": "markdown",
   "metadata": {},
   "source": [
    "### VIF after reducing features"
   ]
  },
  {
   "cell_type": "code",
   "execution_count": 25,
   "metadata": {},
   "outputs": [
    {
     "name": "stdout",
     "output_type": "stream",
     "text": [
      "              feature       VIF\n",
      "0            fps_mean  6.374225\n",
      "1             fps_std  1.525237\n",
      "2            fps_lags  1.222469\n",
      "3            rtt_mean  1.188913\n",
      "4  dropped_frames_max  1.123947\n",
      "5  auto_bitrate_state  4.212343\n",
      "6      auto_fec_state  5.960917\n"
     ]
    }
   ],
   "source": [
    "# VIF dataFrame\n",
    "vif_data = pd.DataFrame()\n",
    "vif_data['feature'] = x_train_reduced.columns\n",
    "\n",
    "# calculating VIF for each feature\n",
    "vif_data['VIF'] = [variance_inflation_factor(x_train_reduced.values, i) for i in range(len(x_train_reduced.columns))]\n",
    "\n",
    "print(vif_data)"
   ]
  },
  {
   "cell_type": "markdown",
   "metadata": {},
   "source": [
    "After reducing multicollinear features VIF for some features is decreased."
   ]
  },
  {
   "cell_type": "markdown",
   "metadata": {},
   "source": [
    "# Machine Learning Models"
   ]
  },
  {
   "cell_type": "code",
   "execution_count": 46,
   "metadata": {},
   "outputs": [],
   "source": [
    "import sklearn.metrics as sm \n",
    "from sklearn.linear_model import LogisticRegression\n",
    "from sklearn.model_selection import cross_validate"
   ]
  },
  {
   "cell_type": "code",
   "execution_count": 56,
   "metadata": {},
   "outputs": [],
   "source": [
    "# function for printing metrics for classifications\n",
    "def performance_measurement_classification(y_test, y_pred, y_train, y_train_pred, scores):\n",
    "    \"\"\" This function prints MSE, MAE, RMSE and R^2-Score metrics for train and test datasets\"\"\"\n",
    "\n",
    "    print(\"For Test:\")\n",
    "    print('Accuracy: ', sm.accuracy_score(y_test, y_pred))\n",
    "    print('Precision: ', sm.precision_score(y_test, y_pred))\n",
    "    print('Recall: ', sm.recall_score(y_test, y_pred))\n",
    "    print(\"F1-Score:\", sm.f1_score(y_test, y_pred))\n",
    "\n",
    "    print(\"For Train:\")\n",
    "    print('Accuracy: ', sm.accuracy_score(y_train, y_train_pred))\n",
    "    print('Precision: ', sm.precision_score(y_train, y_train_pred))\n",
    "    print('Recall: ', sm.recall_score(y_train, y_train_pred))\n",
    "    print(\"F1-Score:\", sm.f1_score(y_train, y_train_pred))\n",
    "\n",
    "    print(\"Cross Validation Scores:\")\n",
    "    print('Accuracy: ', np.mean(scores['test_accuracy']))\n",
    "    print('Precision: ', np.mean(scores['test_precision']))\n",
    "    print('Recall: ', np.mean(scores['test_recall']))\n",
    "    print(\"F1-Score:\", np.mean(scores['test_f1']))"
   ]
  },
  {
   "cell_type": "markdown",
   "metadata": {},
   "source": [
    "### Logistic Regression"
   ]
  },
  {
   "cell_type": "code",
   "execution_count": 47,
   "metadata": {},
   "outputs": [],
   "source": [
    "def logistic_regression(x_train, y_train, x_test, penalty=\"l2\", solver=\"liblinear\"):\n",
    "    \"\"\"\n",
    "    Function for fitting and predicting by using logistic regression.\n",
    "    penalty{'l1', 'l2', 'elasticnet', 'none'}, default='l2'\n",
    "    solver{'newton-cg', 'lbfgs', 'liblinear', 'sag', 'saga'}, default='lbfgs'\n",
    "    \"\"\"\n",
    "\n",
    "    log_reg = LogisticRegression(penalty=penalty, solver=solver)\n",
    "    log_reg.fit(x_train, y_train)\n",
    "    y_pred_test = log_reg.predict(x_test)\n",
    "    y_pred_train = log_reg.predict(x_train)\n",
    "\n",
    "    # Evaluate the models using crossvalidation\n",
    "    scores = cross_validate(log_reg, x_train, y_train,\n",
    "                             scoring=[\"accuracy\", \"f1\", \"precision\", \"recall\"], cv=10)\n",
    "\n",
    "    return y_pred_test, y_pred_train, scores\n"
   ]
  },
  {
   "cell_type": "code",
   "execution_count": 57,
   "metadata": {},
   "outputs": [
    {
     "name": "stderr",
     "output_type": "stream",
     "text": [
      "c:\\Users\\Айнура\\AppData\\Local\\Programs\\Python\\Python310\\lib\\site-packages\\sklearn\\linear_model\\_logistic.py:444: ConvergenceWarning: lbfgs failed to converge (status=1):\n",
      "STOP: TOTAL NO. of ITERATIONS REACHED LIMIT.\n",
      "\n",
      "Increase the number of iterations (max_iter) or scale the data as shown in:\n",
      "    https://scikit-learn.org/stable/modules/preprocessing.html\n",
      "Please also refer to the documentation for alternative solver options:\n",
      "    https://scikit-learn.org/stable/modules/linear_model.html#logistic-regression\n",
      "  n_iter_i = _check_optimize_result(\n",
      "c:\\Users\\Айнура\\AppData\\Local\\Programs\\Python\\Python310\\lib\\site-packages\\sklearn\\linear_model\\_logistic.py:444: ConvergenceWarning: lbfgs failed to converge (status=1):\n",
      "STOP: TOTAL NO. of ITERATIONS REACHED LIMIT.\n",
      "\n",
      "Increase the number of iterations (max_iter) or scale the data as shown in:\n",
      "    https://scikit-learn.org/stable/modules/preprocessing.html\n",
      "Please also refer to the documentation for alternative solver options:\n",
      "    https://scikit-learn.org/stable/modules/linear_model.html#logistic-regression\n",
      "  n_iter_i = _check_optimize_result(\n",
      "c:\\Users\\Айнура\\AppData\\Local\\Programs\\Python\\Python310\\lib\\site-packages\\sklearn\\linear_model\\_logistic.py:444: ConvergenceWarning: lbfgs failed to converge (status=1):\n",
      "STOP: TOTAL NO. of ITERATIONS REACHED LIMIT.\n",
      "\n",
      "Increase the number of iterations (max_iter) or scale the data as shown in:\n",
      "    https://scikit-learn.org/stable/modules/preprocessing.html\n",
      "Please also refer to the documentation for alternative solver options:\n",
      "    https://scikit-learn.org/stable/modules/linear_model.html#logistic-regression\n",
      "  n_iter_i = _check_optimize_result(\n",
      "c:\\Users\\Айнура\\AppData\\Local\\Programs\\Python\\Python310\\lib\\site-packages\\sklearn\\linear_model\\_logistic.py:444: ConvergenceWarning: lbfgs failed to converge (status=1):\n",
      "STOP: TOTAL NO. of ITERATIONS REACHED LIMIT.\n",
      "\n",
      "Increase the number of iterations (max_iter) or scale the data as shown in:\n",
      "    https://scikit-learn.org/stable/modules/preprocessing.html\n",
      "Please also refer to the documentation for alternative solver options:\n",
      "    https://scikit-learn.org/stable/modules/linear_model.html#logistic-regression\n",
      "  n_iter_i = _check_optimize_result(\n",
      "c:\\Users\\Айнура\\AppData\\Local\\Programs\\Python\\Python310\\lib\\site-packages\\sklearn\\linear_model\\_logistic.py:444: ConvergenceWarning: lbfgs failed to converge (status=1):\n",
      "STOP: TOTAL NO. of ITERATIONS REACHED LIMIT.\n",
      "\n",
      "Increase the number of iterations (max_iter) or scale the data as shown in:\n",
      "    https://scikit-learn.org/stable/modules/preprocessing.html\n",
      "Please also refer to the documentation for alternative solver options:\n",
      "    https://scikit-learn.org/stable/modules/linear_model.html#logistic-regression\n",
      "  n_iter_i = _check_optimize_result(\n",
      "c:\\Users\\Айнура\\AppData\\Local\\Programs\\Python\\Python310\\lib\\site-packages\\sklearn\\linear_model\\_logistic.py:444: ConvergenceWarning: lbfgs failed to converge (status=1):\n",
      "STOP: TOTAL NO. of ITERATIONS REACHED LIMIT.\n",
      "\n",
      "Increase the number of iterations (max_iter) or scale the data as shown in:\n",
      "    https://scikit-learn.org/stable/modules/preprocessing.html\n",
      "Please also refer to the documentation for alternative solver options:\n",
      "    https://scikit-learn.org/stable/modules/linear_model.html#logistic-regression\n",
      "  n_iter_i = _check_optimize_result(\n",
      "c:\\Users\\Айнура\\AppData\\Local\\Programs\\Python\\Python310\\lib\\site-packages\\sklearn\\linear_model\\_logistic.py:444: ConvergenceWarning: lbfgs failed to converge (status=1):\n",
      "STOP: TOTAL NO. of ITERATIONS REACHED LIMIT.\n",
      "\n",
      "Increase the number of iterations (max_iter) or scale the data as shown in:\n",
      "    https://scikit-learn.org/stable/modules/preprocessing.html\n",
      "Please also refer to the documentation for alternative solver options:\n",
      "    https://scikit-learn.org/stable/modules/linear_model.html#logistic-regression\n",
      "  n_iter_i = _check_optimize_result(\n",
      "c:\\Users\\Айнура\\AppData\\Local\\Programs\\Python\\Python310\\lib\\site-packages\\sklearn\\linear_model\\_logistic.py:444: ConvergenceWarning: lbfgs failed to converge (status=1):\n",
      "STOP: TOTAL NO. of ITERATIONS REACHED LIMIT.\n",
      "\n",
      "Increase the number of iterations (max_iter) or scale the data as shown in:\n",
      "    https://scikit-learn.org/stable/modules/preprocessing.html\n",
      "Please also refer to the documentation for alternative solver options:\n",
      "    https://scikit-learn.org/stable/modules/linear_model.html#logistic-regression\n",
      "  n_iter_i = _check_optimize_result(\n",
      "c:\\Users\\Айнура\\AppData\\Local\\Programs\\Python\\Python310\\lib\\site-packages\\sklearn\\linear_model\\_logistic.py:444: ConvergenceWarning: lbfgs failed to converge (status=1):\n",
      "STOP: TOTAL NO. of ITERATIONS REACHED LIMIT.\n",
      "\n",
      "Increase the number of iterations (max_iter) or scale the data as shown in:\n",
      "    https://scikit-learn.org/stable/modules/preprocessing.html\n",
      "Please also refer to the documentation for alternative solver options:\n",
      "    https://scikit-learn.org/stable/modules/linear_model.html#logistic-regression\n",
      "  n_iter_i = _check_optimize_result(\n",
      "c:\\Users\\Айнура\\AppData\\Local\\Programs\\Python\\Python310\\lib\\site-packages\\sklearn\\linear_model\\_logistic.py:444: ConvergenceWarning: lbfgs failed to converge (status=1):\n",
      "STOP: TOTAL NO. of ITERATIONS REACHED LIMIT.\n",
      "\n",
      "Increase the number of iterations (max_iter) or scale the data as shown in:\n",
      "    https://scikit-learn.org/stable/modules/preprocessing.html\n",
      "Please also refer to the documentation for alternative solver options:\n",
      "    https://scikit-learn.org/stable/modules/linear_model.html#logistic-regression\n",
      "  n_iter_i = _check_optimize_result(\n"
     ]
    },
    {
     "name": "stdout",
     "output_type": "stream",
     "text": [
      "For Test:\n",
      "Accuracy:  0.9214888586019475\n",
      "Precision:  0.384641248066707\n",
      "Recall:  0.3644704982795973\n",
      "F1-Score: 0.3742843121217078\n",
      "For Train:\n",
      "Accuracy:  0.9447231978591738\n",
      "Precision:  0.834832583708146\n",
      "Recall:  0.24006610620104907\n",
      "F1-Score: 0.37290027345275967\n",
      "Cross Validation Scores:\n",
      "Accuracy:  0.9444231674320344\n",
      "Precision:  0.7846904920269896\n",
      "Recall:  0.23616190355235606\n",
      "F1-Score: 0.33482818438321105\n"
     ]
    }
   ],
   "source": [
    "y_pred_test_log1, y_pred_train_log1, scores_1 = logistic_regression(\n",
    "    x_train_reduced, y_train, x_test_reduced, \"none\", \"lbfgs\"\n",
    ")\n",
    "\n",
    "performance_measurement_classification(\n",
    "    y_test, y_pred_test_log1, y_train, y_pred_train_log1, scores_1\n",
    ")"
   ]
  },
  {
   "cell_type": "markdown",
   "metadata": {},
   "source": [
    "### Logistic Regression with L1 Regularization"
   ]
  },
  {
   "cell_type": "code",
   "execution_count": 58,
   "metadata": {},
   "outputs": [
    {
     "name": "stdout",
     "output_type": "stream",
     "text": [
      "For Test:\n",
      "Accuracy:  0.9215299101791491\n",
      "Precision:  0.3844803133653002\n",
      "Recall:  0.36275009557792787\n",
      "F1-Score: 0.37329923609062\n",
      "For Train:\n",
      "Accuracy:  0.9447158190923133\n",
      "Precision:  0.8403863260897192\n",
      "Recall:  0.2375871236617087\n",
      "F1-Score: 0.37044506063916194\n",
      "Cross Validation Scores:\n",
      "Accuracy:  0.9444920361405205\n",
      "Precision:  0.7890866719467262\n",
      "Recall:  0.23580243710789234\n",
      "F1-Score: 0.3345143398129254\n"
     ]
    }
   ],
   "source": [
    "y_pred_test_log2, y_pred_train_log2, scores_2 = logistic_regression(\n",
    "    x_train_reduced, y_train, x_test_reduced, \"l1\", \"liblinear\"\n",
    ")\n",
    "\n",
    "performance_measurement_classification(\n",
    "    y_test, y_pred_test_log2, y_train, y_pred_train_log2, scores_2\n",
    ")"
   ]
  },
  {
   "cell_type": "markdown",
   "metadata": {},
   "source": [
    "### Logistic Regression with L2 Regularization"
   ]
  },
  {
   "cell_type": "code",
   "execution_count": 59,
   "metadata": {},
   "outputs": [
    {
     "name": "stdout",
     "output_type": "stream",
     "text": [
      "For Test:\n",
      "Accuracy:  0.9280776367428036\n",
      "Precision:  0.42385321100917434\n",
      "Recall:  0.3238180196253345\n",
      "F1-Score: 0.3671434763762462\n",
      "For Train:\n",
      "Accuracy:  0.9447896067609182\n",
      "Precision:  0.8506704856138524\n",
      "Recall:  0.23474886829057987\n",
      "F1-Score: 0.3679572011825989\n",
      "Cross Validation Scores:\n",
      "Accuracy:  0.9446051777284502\n",
      "Precision:  0.8020222846461402\n",
      "Recall:  0.23249700046670885\n",
      "F1-Score: 0.330705757107569\n"
     ]
    }
   ],
   "source": [
    "y_pred_test_log3, y_pred_train_log3, scores_3 = logistic_regression(\n",
    "    x_train_reduced, y_train, x_test_reduced, \"l2\", \"liblinear\"\n",
    ")\n",
    "\n",
    "performance_measurement_classification(\n",
    "    y_test, y_pred_test_log3, y_train, y_pred_train_log3, scores_3\n",
    ")"
   ]
  },
  {
   "cell_type": "markdown",
   "metadata": {},
   "source": [
    "We can compare these models by identifying what mertic is more important for this particular task.\n",
    "For our task the precision is more important, I think, because we don't want FalsePositives occurance.\n",
    "\n",
    "Then Logistic Regression with L2 Regularization has better result than others. "
   ]
  },
  {
   "cell_type": "markdown",
   "metadata": {},
   "source": [
    "# Outlier Detection"
   ]
  },
  {
   "cell_type": "code",
   "execution_count": 37,
   "metadata": {},
   "outputs": [],
   "source": [
    "from sklearn.neighbors import LocalOutlierFactor\n",
    "\n",
    "\n",
    "lof = LocalOutlierFactor()\n",
    "yhat = lof.fit_predict(x_train)\n",
    "\n",
    "# select all rows that are not outliers\n",
    "mask = yhat != -1\n",
    "x_train_without_outliers, y_train_without_outliers = x_train[mask], y_train[mask]"
   ]
  },
  {
   "cell_type": "markdown",
   "metadata": {},
   "source": [
    "Counting the percentage of outliers"
   ]
  },
  {
   "cell_type": "code",
   "execution_count": 38,
   "metadata": {},
   "outputs": [
    {
     "name": "stdout",
     "output_type": "stream",
     "text": [
      "Unique values: [-1  1], Amount accordingly: [ 15651 390921]\n",
      "The percentage of outliers is 3.85%\n"
     ]
    }
   ],
   "source": [
    "unique_values, counts = np.unique(yhat, return_counts = True)\n",
    "print(f\"Unique values: {unique_values}, Amount accordingly: {counts}\")\n",
    "\n",
    "percentage =  counts[0] / len(x_train) * 100\n",
    "print(f\"The percentage of outliers is {percentage:.2f}%\")"
   ]
  },
  {
   "cell_type": "code",
   "execution_count": 60,
   "metadata": {},
   "outputs": [
    {
     "name": "stderr",
     "output_type": "stream",
     "text": [
      "c:\\Users\\Айнура\\AppData\\Local\\Programs\\Python\\Python310\\lib\\site-packages\\sklearn\\linear_model\\_logistic.py:444: ConvergenceWarning: lbfgs failed to converge (status=1):\n",
      "STOP: TOTAL NO. of ITERATIONS REACHED LIMIT.\n",
      "\n",
      "Increase the number of iterations (max_iter) or scale the data as shown in:\n",
      "    https://scikit-learn.org/stable/modules/preprocessing.html\n",
      "Please also refer to the documentation for alternative solver options:\n",
      "    https://scikit-learn.org/stable/modules/linear_model.html#logistic-regression\n",
      "  n_iter_i = _check_optimize_result(\n",
      "c:\\Users\\Айнура\\AppData\\Local\\Programs\\Python\\Python310\\lib\\site-packages\\sklearn\\linear_model\\_logistic.py:444: ConvergenceWarning: lbfgs failed to converge (status=1):\n",
      "STOP: TOTAL NO. of ITERATIONS REACHED LIMIT.\n",
      "\n",
      "Increase the number of iterations (max_iter) or scale the data as shown in:\n",
      "    https://scikit-learn.org/stable/modules/preprocessing.html\n",
      "Please also refer to the documentation for alternative solver options:\n",
      "    https://scikit-learn.org/stable/modules/linear_model.html#logistic-regression\n",
      "  n_iter_i = _check_optimize_result(\n",
      "c:\\Users\\Айнура\\AppData\\Local\\Programs\\Python\\Python310\\lib\\site-packages\\sklearn\\linear_model\\_logistic.py:444: ConvergenceWarning: lbfgs failed to converge (status=1):\n",
      "STOP: TOTAL NO. of ITERATIONS REACHED LIMIT.\n",
      "\n",
      "Increase the number of iterations (max_iter) or scale the data as shown in:\n",
      "    https://scikit-learn.org/stable/modules/preprocessing.html\n",
      "Please also refer to the documentation for alternative solver options:\n",
      "    https://scikit-learn.org/stable/modules/linear_model.html#logistic-regression\n",
      "  n_iter_i = _check_optimize_result(\n",
      "c:\\Users\\Айнура\\AppData\\Local\\Programs\\Python\\Python310\\lib\\site-packages\\sklearn\\linear_model\\_logistic.py:444: ConvergenceWarning: lbfgs failed to converge (status=1):\n",
      "STOP: TOTAL NO. of ITERATIONS REACHED LIMIT.\n",
      "\n",
      "Increase the number of iterations (max_iter) or scale the data as shown in:\n",
      "    https://scikit-learn.org/stable/modules/preprocessing.html\n",
      "Please also refer to the documentation for alternative solver options:\n",
      "    https://scikit-learn.org/stable/modules/linear_model.html#logistic-regression\n",
      "  n_iter_i = _check_optimize_result(\n",
      "c:\\Users\\Айнура\\AppData\\Local\\Programs\\Python\\Python310\\lib\\site-packages\\sklearn\\linear_model\\_logistic.py:444: ConvergenceWarning: lbfgs failed to converge (status=1):\n",
      "STOP: TOTAL NO. of ITERATIONS REACHED LIMIT.\n",
      "\n",
      "Increase the number of iterations (max_iter) or scale the data as shown in:\n",
      "    https://scikit-learn.org/stable/modules/preprocessing.html\n",
      "Please also refer to the documentation for alternative solver options:\n",
      "    https://scikit-learn.org/stable/modules/linear_model.html#logistic-regression\n",
      "  n_iter_i = _check_optimize_result(\n",
      "c:\\Users\\Айнура\\AppData\\Local\\Programs\\Python\\Python310\\lib\\site-packages\\sklearn\\linear_model\\_logistic.py:444: ConvergenceWarning: lbfgs failed to converge (status=1):\n",
      "STOP: TOTAL NO. of ITERATIONS REACHED LIMIT.\n",
      "\n",
      "Increase the number of iterations (max_iter) or scale the data as shown in:\n",
      "    https://scikit-learn.org/stable/modules/preprocessing.html\n",
      "Please also refer to the documentation for alternative solver options:\n",
      "    https://scikit-learn.org/stable/modules/linear_model.html#logistic-regression\n",
      "  n_iter_i = _check_optimize_result(\n",
      "c:\\Users\\Айнура\\AppData\\Local\\Programs\\Python\\Python310\\lib\\site-packages\\sklearn\\linear_model\\_logistic.py:444: ConvergenceWarning: lbfgs failed to converge (status=1):\n",
      "STOP: TOTAL NO. of ITERATIONS REACHED LIMIT.\n",
      "\n",
      "Increase the number of iterations (max_iter) or scale the data as shown in:\n",
      "    https://scikit-learn.org/stable/modules/preprocessing.html\n",
      "Please also refer to the documentation for alternative solver options:\n",
      "    https://scikit-learn.org/stable/modules/linear_model.html#logistic-regression\n",
      "  n_iter_i = _check_optimize_result(\n",
      "c:\\Users\\Айнура\\AppData\\Local\\Programs\\Python\\Python310\\lib\\site-packages\\sklearn\\linear_model\\_logistic.py:444: ConvergenceWarning: lbfgs failed to converge (status=1):\n",
      "STOP: TOTAL NO. of ITERATIONS REACHED LIMIT.\n",
      "\n",
      "Increase the number of iterations (max_iter) or scale the data as shown in:\n",
      "    https://scikit-learn.org/stable/modules/preprocessing.html\n",
      "Please also refer to the documentation for alternative solver options:\n",
      "    https://scikit-learn.org/stable/modules/linear_model.html#logistic-regression\n",
      "  n_iter_i = _check_optimize_result(\n",
      "c:\\Users\\Айнура\\AppData\\Local\\Programs\\Python\\Python310\\lib\\site-packages\\sklearn\\linear_model\\_logistic.py:444: ConvergenceWarning: lbfgs failed to converge (status=1):\n",
      "STOP: TOTAL NO. of ITERATIONS REACHED LIMIT.\n",
      "\n",
      "Increase the number of iterations (max_iter) or scale the data as shown in:\n",
      "    https://scikit-learn.org/stable/modules/preprocessing.html\n",
      "Please also refer to the documentation for alternative solver options:\n",
      "    https://scikit-learn.org/stable/modules/linear_model.html#logistic-regression\n",
      "  n_iter_i = _check_optimize_result(\n",
      "c:\\Users\\Айнура\\AppData\\Local\\Programs\\Python\\Python310\\lib\\site-packages\\sklearn\\linear_model\\_logistic.py:444: ConvergenceWarning: lbfgs failed to converge (status=1):\n",
      "STOP: TOTAL NO. of ITERATIONS REACHED LIMIT.\n",
      "\n",
      "Increase the number of iterations (max_iter) or scale the data as shown in:\n",
      "    https://scikit-learn.org/stable/modules/preprocessing.html\n",
      "Please also refer to the documentation for alternative solver options:\n",
      "    https://scikit-learn.org/stable/modules/linear_model.html#logistic-regression\n",
      "  n_iter_i = _check_optimize_result(\n"
     ]
    },
    {
     "name": "stdout",
     "output_type": "stream",
     "text": [
      "For Test:\n",
      "Accuracy:  0.9406065781047308\n",
      "Precision:  0.6952229299363057\n",
      "Recall:  0.13909774436090225\n",
      "F1-Score: 0.23181480301582244\n",
      "For Train:\n",
      "Accuracy:  0.94636768042648\n",
      "Precision:  0.8317703893151464\n",
      "Recall:  0.22835075674832267\n",
      "F1-Score: 0.35832772234804433\n",
      "Cross Validation Scores:\n",
      "Accuracy:  0.9461963066351269\n",
      "Precision:  0.7758837386646718\n",
      "Recall:  0.22677253949307405\n",
      "F1-Score: 0.32166993666422494\n"
     ]
    }
   ],
   "source": [
    "# scaling\n",
    "scaled_train_without_outliers, scaled_test = scaler(\n",
    "    MinMaxScaler, x_train_without_outliers, x_test\n",
    ")\n",
    "\n",
    "# removing the same features\n",
    "x_train_reduced_without_outliers = scaled_train_without_outliers.drop(\n",
    "    remove_columns, axis=1\n",
    ")\n",
    "x_test_reduced = scaled_test.drop(remove_columns, axis=1)\n",
    "\n",
    "# logistic regression\n",
    "y_pred_test_without_outliers, y_pred_train_without_outliers, scores_4 = logistic_regression(\n",
    "    x_train_reduced_without_outliers,\n",
    "    y_train_without_outliers,\n",
    "    x_test_reduced,\n",
    "    \"none\",\n",
    "    \"lbfgs\",\n",
    ")\n",
    "\n",
    "performance_measurement_classification(\n",
    "    y_test,\n",
    "    y_pred_test_without_outliers,\n",
    "    y_train_without_outliers,\n",
    "    y_pred_train_without_outliers,\n",
    "    scores_4\n",
    ")"
   ]
  },
  {
   "cell_type": "markdown",
   "metadata": {},
   "source": [
    "Classifying without outliers decreased F1-Score."
   ]
  },
  {
   "cell_type": "markdown",
   "metadata": {},
   "source": [
    "## Balancing detecting"
   ]
  },
  {
   "cell_type": "code",
   "execution_count": 42,
   "metadata": {},
   "outputs": [
    {
     "name": "stdout",
     "output_type": "stream",
     "text": [
      "Unique values: [0 1], Amount accordingly: [365285  25636]\n"
     ]
    }
   ],
   "source": [
    "unique_values, counts = np.unique(y_train_without_outliers, return_counts = True)\n",
    "print(f\"Unique values: {unique_values}, Amount accordingly: {counts}\")"
   ]
  },
  {
   "cell_type": "markdown",
   "metadata": {},
   "source": [
    "We see that class \"1\" is less in the number of samples than class \"0\""
   ]
  },
  {
   "cell_type": "markdown",
   "metadata": {},
   "source": [
    "#### Undersampling"
   ]
  },
  {
   "cell_type": "code",
   "execution_count": 43,
   "metadata": {},
   "outputs": [
    {
     "name": "stdout",
     "output_type": "stream",
     "text": [
      "Unique values: [0 1], Amount accordingly: [25636 25636]\n"
     ]
    }
   ],
   "source": [
    "from imblearn.under_sampling import RandomUnderSampler\n",
    "\n",
    "\n",
    "# Randomly under sample the majority class\n",
    "rus = RandomUnderSampler(random_state=42)\n",
    "x_train_rus, y_train_rus = rus.fit_resample(\n",
    "    x_train_without_outliers, y_train_without_outliers\n",
    ")\n",
    "\n",
    "# Check the number of records after under sampling\n",
    "unique_values, counts = np.unique(y_train_rus, return_counts=True)\n",
    "print(f\"Unique values: {unique_values}, Amount accordingly: {counts}\")\n"
   ]
  },
  {
   "cell_type": "code",
   "execution_count": 61,
   "metadata": {},
   "outputs": [
    {
     "name": "stdout",
     "output_type": "stream",
     "text": [
      "For Test:\n",
      "Accuracy:  0.8826212253074763\n",
      "Precision:  0.2758333043689827\n",
      "Recall:  0.5056709570536511\n",
      "F1-Score: 0.35695490835488586\n",
      "For Train:\n",
      "Accuracy:  0.7232017475425183\n",
      "Precision:  0.857982982982983\n",
      "Recall:  0.5349508503666719\n",
      "F1-Score: 0.6590100913022586\n",
      "Cross Validation Scores:\n",
      "Accuracy:  0.7194393185323669\n",
      "Precision:  0.8510670744320757\n",
      "Recall:  0.5280119156385452\n",
      "F1-Score: 0.6444902784577811\n"
     ]
    }
   ],
   "source": [
    "# scaling\n",
    "scaled_train_without_outliers, scaled_test = scaler(MinMaxScaler, x_train_rus, x_test)\n",
    "\n",
    "# removing the dame features\n",
    "x_train_reduced_without_outliers = scaled_train_without_outliers.drop(\n",
    "    remove_columns, axis=1\n",
    ")\n",
    "x_test_reduced = scaled_test.drop(remove_columns, axis=1)\n",
    "\n",
    "# logistic regression\n",
    "y_pred_test_balanced, y_pred_train_balanced, scores_5 = logistic_regression(\n",
    "    x_train_reduced_without_outliers, y_train_rus, x_test_reduced, \"none\", \"lbfgs\"\n",
    ")\n",
    "\n",
    "performance_measurement_classification(\n",
    "    y_test, \n",
    "    y_pred_test_balanced, \n",
    "    y_train_rus, \n",
    "    y_pred_train_balanced, \n",
    "    scores_5\n",
    ")"
   ]
  },
  {
   "cell_type": "markdown",
   "metadata": {},
   "source": [
    "F1-Score is increased, what means that the undersampling helped us to improve our model."
   ]
  }
 ],
 "metadata": {
  "kernelspec": {
   "display_name": "Python 3.10.2 64-bit (system)",
   "language": "python",
   "name": "python3"
  },
  "language_info": {
   "codemirror_mode": {
    "name": "ipython",
    "version": 3
   },
   "file_extension": ".py",
   "mimetype": "text/x-python",
   "name": "python",
   "nbconvert_exporter": "python",
   "pygments_lexer": "ipython3",
   "version": "3.10.2"
  },
  "orig_nbformat": 4,
  "vscode": {
   "interpreter": {
    "hash": "6907ccc19c0af1b11b14e13a188fa6ffe60fcd7a4ebcac685def92048f0916bb"
   }
  }
 },
 "nbformat": 4,
 "nbformat_minor": 2
}
